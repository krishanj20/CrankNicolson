{
 "cells": [
  {
   "cell_type": "markdown",
   "metadata": {},
   "source": [
    "# Plotting code for the value of the option as a function of the stopping price\n",
    "\n",
    "We load in the data created by the cpp script, and plot this."
   ]
  },
  {
   "cell_type": "code",
   "execution_count": 4,
   "metadata": {},
   "outputs": [
    {
     "name": "stdout",
     "output_type": "stream",
     "text": [
      "Processed 50 lines.\n"
     ]
    }
   ],
   "source": [
    "import csv\n",
    "\n",
    "S = []\n",
    "V = []\n",
    "with open('Varying_S.txt') as csv_file:\n",
    "    csv_reader = csv.reader(csv_file, delimiter=',')\n",
    "    line_count = 0\n",
    "    for row in csv_reader:\n",
    "        S.append(float(row[0]))\n",
    "        V.append(float(row[1]))\n",
    "        line_count+=1;\n",
    "    print(f'Processed {line_count} lines.')"
   ]
  },
  {
   "cell_type": "code",
   "execution_count": 5,
   "metadata": {},
   "outputs": [
    {
     "name": "stdout",
     "output_type": "stream",
     "text": [
      "[0.0, 5.647, 11.294, 16.941, 22.588, 28.235, 33.882, 39.529, 45.176, 50.823, 56.47, 62.117, 67.764, 73.411, 79.058, 84.705, 90.352, 95.999, 101.646, 107.293, 112.94, 118.587, 124.234, 129.881, 135.528, 141.175, 146.822, 152.469, 158.116, 163.763, 169.41, 175.057, 180.704, 186.351, 191.998, 197.645, 203.292, 208.939, 214.586, 220.233, 225.88, 231.527, 237.174, 242.821, 248.468, 254.115, 259.762, 265.409, 271.056, 276.703]\n",
      "[0.334679, 0.176987, 0.0192959, -0.138396, -0.296087, -0.453778, 0.670886, 1.79555, 2.92022, 4.04488, 5.16954, 10.4377, 15.7058, 20.9739, 26.2421, 31.5102, 37.8222, 44.1342, 50.4461, 56.7581, 63.0701, 69.7624, 76.4547, 83.1469, 89.8392, 96.5315, 103.268, 110.004, 116.741, 123.477, 130.214, 136.962, 143.711, 150.459, 157.208, 163.956, 170.903, 177.849, 184.796, 191.742, 198.689, 206.244, 213.8, 221.356, 228.912, 236.467, 245.004, 253.54, 262.077, 270.613]\n"
     ]
    }
   ],
   "source": [
    "#Check S and V\n",
    "print(S)\n",
    "print(V)"
   ]
  },
  {
   "cell_type": "code",
   "execution_count": 6,
   "metadata": {},
   "outputs": [
    {
     "data": {
      "text/plain": [
       "<Figure size 640x480 with 1 Axes>"
      ]
     },
     "metadata": {},
     "output_type": "display_data"
    }
   ],
   "source": [
    "import numpy as np\n",
    "import matplotlib.pyplot as plt\n",
    "\n",
    "plt.plot(S,V)\n",
    "\n",
    "plt.xlabel(\"S\")\n",
    "plt.ylabel('V')\n",
    "plt.show()"
   ]
  },
  {
   "cell_type": "code",
   "execution_count": 8,
   "metadata": {},
   "outputs": [
    {
     "name": "stdout",
     "output_type": "stream",
     "text": [
      "41.39426749734328\n"
     ]
    }
   ],
   "source": []
  },
  {
   "cell_type": "code",
   "execution_count": null,
   "metadata": {},
   "outputs": [],
   "source": []
  }
 ],
 "metadata": {
  "kernelspec": {
   "display_name": "Python 3",
   "language": "python",
   "name": "python3"
  },
  "language_info": {
   "codemirror_mode": {
    "name": "ipython",
    "version": 3
   },
   "file_extension": ".py",
   "mimetype": "text/x-python",
   "name": "python",
   "nbconvert_exporter": "python",
   "pygments_lexer": "ipython3",
   "version": "3.7.4"
  }
 },
 "nbformat": 4,
 "nbformat_minor": 2
}
